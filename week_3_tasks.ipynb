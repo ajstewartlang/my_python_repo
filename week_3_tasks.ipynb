{
 "cells": [
  {
   "cell_type": "markdown",
   "id": "4e1ac041",
   "metadata": {},
   "source": [
    "The following will be a group-based activity which you will do in class.\n",
    "\n",
    "The data in the file https://raw.githubusercontent.com/ajstewartlang/02_intro_to_python_programming/main/data/ANOVA_class_work.csv are from an experiment with 96 participants. We measured how quickly (in milliseconds) people could pronounce a word that was presented to them. Words were presented either normally (Condition A) or were visually degraded (Condition B). This was a between participants factor of visual quality with 2 levels. Visualise the data and report the key descriptives before then running the appropriate ANOVA.\n",
    "\n",
    "Can you turn your code into a function called my_anova() so that you can call it with the command my_anova('https://raw.githubusercontent.com/ajstewartlang/02_intro_to_python_programming/main/data/ANOVA_class_work.csv') and will produce the output of your ANOVA? Hint: you need to pass just the location of your data file to your function, and can keep the code you’ve written above virtually unchanged."
   ]
  },
  {
   "cell_type": "code",
   "execution_count": 1,
   "id": "88a5fd08",
   "metadata": {},
   "outputs": [],
   "source": [
    "import pandas as pd\n",
    "from scipy import stats\n",
    "import matplotlib.pyplot as plt"
   ]
  },
  {
   "cell_type": "code",
   "execution_count": 2,
   "id": "32395ad9",
   "metadata": {},
   "outputs": [],
   "source": [
    "my_data = pd.read_csv('https://raw.githubusercontent.com/ajstewartlang/02_intro_to_python_programming/main/data/ANOVA_class_work.csv')"
   ]
  },
  {
   "cell_type": "code",
   "execution_count": 3,
   "id": "3812f5f1",
   "metadata": {},
   "outputs": [
    {
     "data": {
      "text/html": [
       "<div>\n",
       "<style scoped>\n",
       "    .dataframe tbody tr th:only-of-type {\n",
       "        vertical-align: middle;\n",
       "    }\n",
       "\n",
       "    .dataframe tbody tr th {\n",
       "        vertical-align: top;\n",
       "    }\n",
       "\n",
       "    .dataframe thead th {\n",
       "        text-align: right;\n",
       "    }\n",
       "</style>\n",
       "<table border=\"1\" class=\"dataframe\">\n",
       "  <thead>\n",
       "    <tr style=\"text-align: right;\">\n",
       "      <th></th>\n",
       "      <th>participant</th>\n",
       "      <th>condition</th>\n",
       "      <th>response_time</th>\n",
       "    </tr>\n",
       "  </thead>\n",
       "  <tbody>\n",
       "    <tr>\n",
       "      <th>0</th>\n",
       "      <td>1</td>\n",
       "      <td>condition_a</td>\n",
       "      <td>984</td>\n",
       "    </tr>\n",
       "    <tr>\n",
       "      <th>1</th>\n",
       "      <td>2</td>\n",
       "      <td>condition_a</td>\n",
       "      <td>1005</td>\n",
       "    </tr>\n",
       "    <tr>\n",
       "      <th>2</th>\n",
       "      <td>3</td>\n",
       "      <td>condition_a</td>\n",
       "      <td>979</td>\n",
       "    </tr>\n",
       "    <tr>\n",
       "      <th>3</th>\n",
       "      <td>4</td>\n",
       "      <td>condition_a</td>\n",
       "      <td>1040</td>\n",
       "    </tr>\n",
       "    <tr>\n",
       "      <th>4</th>\n",
       "      <td>5</td>\n",
       "      <td>condition_a</td>\n",
       "      <td>1008</td>\n",
       "    </tr>\n",
       "  </tbody>\n",
       "</table>\n",
       "</div>"
      ],
      "text/plain": [
       "   participant    condition  response_time\n",
       "0            1  condition_a            984\n",
       "1            2  condition_a           1005\n",
       "2            3  condition_a            979\n",
       "3            4  condition_a           1040\n",
       "4            5  condition_a           1008"
      ]
     },
     "execution_count": 3,
     "metadata": {},
     "output_type": "execute_result"
    }
   ],
   "source": [
    "my_data.head()"
   ]
  },
  {
   "cell_type": "code",
   "execution_count": 4,
   "id": "eaf5e0a9",
   "metadata": {},
   "outputs": [
    {
     "data": {
      "text/html": [
       "<div>\n",
       "<style scoped>\n",
       "    .dataframe tbody tr th:only-of-type {\n",
       "        vertical-align: middle;\n",
       "    }\n",
       "\n",
       "    .dataframe tbody tr th {\n",
       "        vertical-align: top;\n",
       "    }\n",
       "\n",
       "    .dataframe thead th {\n",
       "        text-align: right;\n",
       "    }\n",
       "</style>\n",
       "<table border=\"1\" class=\"dataframe\">\n",
       "  <thead>\n",
       "    <tr style=\"text-align: right;\">\n",
       "      <th></th>\n",
       "      <th>count</th>\n",
       "      <th>mean</th>\n",
       "      <th>std</th>\n",
       "      <th>min</th>\n",
       "      <th>25%</th>\n",
       "      <th>50%</th>\n",
       "      <th>75%</th>\n",
       "      <th>max</th>\n",
       "    </tr>\n",
       "    <tr>\n",
       "      <th>condition</th>\n",
       "      <th></th>\n",
       "      <th></th>\n",
       "      <th></th>\n",
       "      <th></th>\n",
       "      <th></th>\n",
       "      <th></th>\n",
       "      <th></th>\n",
       "      <th></th>\n",
       "    </tr>\n",
       "  </thead>\n",
       "  <tbody>\n",
       "    <tr>\n",
       "      <th>condition_a</th>\n",
       "      <td>48.0</td>\n",
       "      <td>1002.229167</td>\n",
       "      <td>21.045280</td>\n",
       "      <td>945.0</td>\n",
       "      <td>990.00</td>\n",
       "      <td>1003.5</td>\n",
       "      <td>1017.25</td>\n",
       "      <td>1040.0</td>\n",
       "    </tr>\n",
       "    <tr>\n",
       "      <th>condition_b</th>\n",
       "      <td>48.0</td>\n",
       "      <td>1020.354167</td>\n",
       "      <td>23.524084</td>\n",
       "      <td>970.0</td>\n",
       "      <td>1003.25</td>\n",
       "      <td>1021.0</td>\n",
       "      <td>1032.25</td>\n",
       "      <td>1075.0</td>\n",
       "    </tr>\n",
       "  </tbody>\n",
       "</table>\n",
       "</div>"
      ],
      "text/plain": [
       "             count         mean        std    min      25%     50%      75%  \\\n",
       "condition                                                                     \n",
       "condition_a   48.0  1002.229167  21.045280  945.0   990.00  1003.5  1017.25   \n",
       "condition_b   48.0  1020.354167  23.524084  970.0  1003.25  1021.0  1032.25   \n",
       "\n",
       "                max  \n",
       "condition            \n",
       "condition_a  1040.0  \n",
       "condition_b  1075.0  "
      ]
     },
     "execution_count": 4,
     "metadata": {},
     "output_type": "execute_result"
    }
   ],
   "source": [
    "grouped_data = my_data.groupby(['condition'])\n",
    "grouped_data.describe()['response_time']"
   ]
  },
  {
   "cell_type": "code",
   "execution_count": 5,
   "id": "aa5a0c40",
   "metadata": {},
   "outputs": [
    {
     "data": {
      "image/png": "[encoded data removed]",
      "text/plain": [
       "<Figure size 432x288 with 1 Axes>"
      ]
     },
     "metadata": {
      "needs_background": "light"
     },
     "output_type": "display_data"
    }
   ],
   "source": [
    "plt.plot(my_data['condition'], my_data['response_time'], 'bo')\n",
    "plt.xlabel('Condition')\n",
    "plt.ylabel('RT (ms.)')\n",
    "plt.title('Reaction Time by Condition')\n",
    "plt.xticks([0, 1], ['Normal', 'Degraded'], rotation=45)\n",
    "plt.margins(.5, .5)\n",
    "plt.show()"
   ]
  },
  {
   "cell_type": "markdown",
   "id": "4496c5c0",
   "metadata": {},
   "source": [
    "How might you re-plot the above as a jittered or beeswarm plot?"
   ]
  },
  {
   "cell_type": "code",
   "execution_count": 6,
   "id": "444dbf01",
   "metadata": {},
   "outputs": [],
   "source": [
    "import seaborn as sns"
   ]
  },
  {
   "cell_type": "code",
   "execution_count": 9,
   "id": "828b7f1a",
   "metadata": {},
   "outputs": [
    {
     "data": {
      "text/plain": [
       "Text(0.5, 1.0, 'Reaction Time (ms.) by Condition')"
      ]
     },
     "execution_count": 9,
     "metadata": {},
     "output_type": "execute_result"
    },
    {
     "data": {
      "image/png": "[encoded data removed]",
      "text/plain": [
       "<Figure size 432x288 with 1 Axes>"
      ]
     },
     "metadata": {},
     "output_type": "display_data"
    }
   ],
   "source": [
    "sns.set_theme(style='ticks', context='paper', font_scale=2)\n",
    "sns.swarmplot(x='condition', y='response_time', data=my_data,size=10)\n",
    "plt.xticks([0, 1], ['Normal', 'Degraded'], rotation=45)\n",
    "plt.xlabel(\"Condition\")\n",
    "plt.ylabel(\"RT (ms.)\")\n",
    "plt.title(\"Reaction Time (ms.) by Condition\")"
   ]
  },
  {
   "cell_type": "markdown",
   "id": "f3e1a606",
   "metadata": {},
   "source": [
    "If you're interested in finding out more about the seaborn library, you can read the paper introducing it [here](https://www.theoj.org/joss-papers/joss.03021/10.21105.joss.03021.pdf) and view the website which includes lots of examples and tutorials [here](https://seaborn.pydata.org/). "
   ]
  },
  {
   "cell_type": "code",
   "execution_count": null,
   "id": "d17d1666",
   "metadata": {},
   "outputs": [],
   "source": [
    "my_std = grouped_data['response_time'].std()\n",
    "my_means = grouped_data['response_time'].mean()\n",
    "error = [my_std[0], my_std[1]]"
   ]
  },
  {
   "cell_type": "code",
   "execution_count": 15,
   "id": "edccb37c",
   "metadata": {},
   "outputs": [
    {
     "data": {
      "image/png": "[encoded data removed]",
      "text/plain": [
       "<Figure size 432x288 with 1 Axes>"
      ]
     },
     "metadata": {
      "needs_background": "light"
     },
     "output_type": "display_data"
    }
   ],
   "source": [
    "my_means.plot.bar(yerr=error, align='center', alpha=0.5, ecolor='black', capsize=10)\n",
    "plt.ylabel('RT (ms.)')\n",
    "plt.xlabel('Condition')\n",
    "plt.xticks([0, 1], ['Normal', 'Degraded'], rotation=45)\n",
    "plt.title('Mean Reaction Time and SDs by Condition')\n",
    "plt.ylim((700, 1200))\n",
    "plt.show()"
   ]
  },
  {
   "cell_type": "code",
   "execution_count": 6,
   "id": "bcdf84a4",
   "metadata": {},
   "outputs": [],
   "source": [
    "normal = my_data[my_data['condition']=='condition_a']['response_time']\n",
    "degraded = my_data[my_data['condition']=='condition_b']['response_time']"
   ]
  },
  {
   "cell_type": "code",
   "execution_count": 7,
   "id": "2b4d3148",
   "metadata": {},
   "outputs": [
    {
     "data": {
      "text/plain": [
       "F_onewayResult(statistic=15.82752793841669, pvalue=0.00013639071462771327)"
      ]
     },
     "execution_count": 7,
     "metadata": {},
     "output_type": "execute_result"
    }
   ],
   "source": [
    "stats.f_oneway(normal, degraded)"
   ]
  },
  {
   "cell_type": "code",
   "execution_count": 8,
   "id": "31ed7857",
   "metadata": {},
   "outputs": [],
   "source": [
    "import pandas as pd\n",
    "from scipy import stats\n",
    "\n",
    "def my_anova(x):\n",
    "    my_data = pd.read_csv(x)\n",
    "    \n",
    "    normal = my_data[my_data['condition']=='condition_a']['response_time']\n",
    "    degraded = my_data[my_data['condition']=='condition_b']['response_time']\n",
    "    \n",
    "    return stats.f_oneway(normal, degraded)"
   ]
  },
  {
   "cell_type": "code",
   "execution_count": 9,
   "id": "7c2503a2",
   "metadata": {},
   "outputs": [
    {
     "data": {
      "text/plain": [
       "F_onewayResult(statistic=15.82752793841669, pvalue=0.00013639071462771327)"
      ]
     },
     "execution_count": 9,
     "metadata": {},
     "output_type": "execute_result"
    }
   ],
   "source": [
    "my_anova('https://raw.githubusercontent.com/ajstewartlang/02_intro_to_python_programming/main/data/ANOVA_class_work.csv')"
   ]
  },
  {
   "cell_type": "markdown",
   "id": "9c1662f7",
   "metadata": {},
   "source": [
    "Our data file is called ANOVA_data2.csv and can be found here:\n",
    "\n",
    "https://raw.githubusercontent.com/ajstewartlang/11_glm_anova_pt1/master/data/ANOVA_data2.csv\n",
    "\n",
    "48 participants responded to a word that differed in how frequent it was. This factor is between participants and we have four levels coded as ‘very low’, ‘low’, ‘high’, and ‘very high’. Our DV is reaction time and is coded as ‘RT’. Subject number is coded as ‘Subject’. We want to know if there is a difference between our conditions (and if so, where that difference lies). Calculate descriptive statistices and conduct the appropriate ANOVA."
   ]
  },
  {
   "cell_type": "code",
   "execution_count": 53,
   "id": "91cf6127",
   "metadata": {},
   "outputs": [],
   "source": [
    "import pandas as pd\n",
    "from scipy import stats"
   ]
  },
  {
   "cell_type": "code",
   "execution_count": 25,
   "id": "8b246c28",
   "metadata": {},
   "outputs": [],
   "source": [
    "def read_my_data(x):\n",
    "    return(pd.read_csv(x))"
   ]
  },
  {
   "cell_type": "code",
   "execution_count": 28,
   "id": "8edc9288",
   "metadata": {
    "scrolled": true
   },
   "outputs": [],
   "source": [
    "data = read_my_data(\"https://raw.githubusercontent.com/ajstewartlang/11_glm_anova_pt1/master/data/ANOVA_data2.csv\")"
   ]
  },
  {
   "cell_type": "code",
   "execution_count": 36,
   "id": "b2ca31d0",
   "metadata": {},
   "outputs": [],
   "source": [
    "very_low = data[data['Condition']=='very low']['RT']\n",
    "low = data[data['Condition']=='low']['RT']\n",
    "high = data[data['Condition']=='high']['RT']\n",
    "very_high = data[data['Condition']=='very high']['RT']"
   ]
  },
  {
   "cell_type": "code",
   "execution_count": 50,
   "id": "9dd54ff8",
   "metadata": {},
   "outputs": [],
   "source": [
    "grouped_data = data.groupby(['Condition'])"
   ]
  },
  {
   "cell_type": "code",
   "execution_count": 52,
   "id": "10498611",
   "metadata": {},
   "outputs": [
    {
     "data": {
      "text/html": [
       "<div>\n",
       "<style scoped>\n",
       "    .dataframe tbody tr th:only-of-type {\n",
       "        vertical-align: middle;\n",
       "    }\n",
       "\n",
       "    .dataframe tbody tr th {\n",
       "        vertical-align: top;\n",
       "    }\n",
       "\n",
       "    .dataframe thead th {\n",
       "        text-align: right;\n",
       "    }\n",
       "</style>\n",
       "<table border=\"1\" class=\"dataframe\">\n",
       "  <thead>\n",
       "    <tr style=\"text-align: right;\">\n",
       "      <th></th>\n",
       "      <th>count</th>\n",
       "      <th>mean</th>\n",
       "      <th>std</th>\n",
       "      <th>min</th>\n",
       "      <th>25%</th>\n",
       "      <th>50%</th>\n",
       "      <th>75%</th>\n",
       "      <th>max</th>\n",
       "    </tr>\n",
       "    <tr>\n",
       "      <th>Condition</th>\n",
       "      <th></th>\n",
       "      <th></th>\n",
       "      <th></th>\n",
       "      <th></th>\n",
       "      <th></th>\n",
       "      <th></th>\n",
       "      <th></th>\n",
       "      <th></th>\n",
       "    </tr>\n",
       "  </thead>\n",
       "  <tbody>\n",
       "    <tr>\n",
       "      <th>high</th>\n",
       "      <td>12.0</td>\n",
       "      <td>927.083333</td>\n",
       "      <td>78.610037</td>\n",
       "      <td>786.0</td>\n",
       "      <td>860.75</td>\n",
       "      <td>971.0</td>\n",
       "      <td>986.25</td>\n",
       "      <td>1016.0</td>\n",
       "    </tr>\n",
       "    <tr>\n",
       "      <th>low</th>\n",
       "      <td>12.0</td>\n",
       "      <td>1164.666667</td>\n",
       "      <td>74.722923</td>\n",
       "      <td>1033.0</td>\n",
       "      <td>1122.25</td>\n",
       "      <td>1155.5</td>\n",
       "      <td>1216.00</td>\n",
       "      <td>1322.0</td>\n",
       "    </tr>\n",
       "    <tr>\n",
       "      <th>very high</th>\n",
       "      <td>12.0</td>\n",
       "      <td>612.666667</td>\n",
       "      <td>112.266188</td>\n",
       "      <td>373.0</td>\n",
       "      <td>556.00</td>\n",
       "      <td>618.5</td>\n",
       "      <td>687.50</td>\n",
       "      <td>769.0</td>\n",
       "    </tr>\n",
       "    <tr>\n",
       "      <th>very low</th>\n",
       "      <td>12.0</td>\n",
       "      <td>1478.166667</td>\n",
       "      <td>85.708633</td>\n",
       "      <td>1378.0</td>\n",
       "      <td>1398.75</td>\n",
       "      <td>1486.5</td>\n",
       "      <td>1520.50</td>\n",
       "      <td>1626.0</td>\n",
       "    </tr>\n",
       "  </tbody>\n",
       "</table>\n",
       "</div>"
      ],
      "text/plain": [
       "           count         mean         std     min      25%     50%      75%  \\\n",
       "Condition                                                                     \n",
       "high        12.0   927.083333   78.610037   786.0   860.75   971.0   986.25   \n",
       "low         12.0  1164.666667   74.722923  1033.0  1122.25  1155.5  1216.00   \n",
       "very high   12.0   612.666667  112.266188   373.0   556.00   618.5   687.50   \n",
       "very low    12.0  1478.166667   85.708633  1378.0  1398.75  1486.5  1520.50   \n",
       "\n",
       "              max  \n",
       "Condition          \n",
       "high       1016.0  \n",
       "low        1322.0  \n",
       "very high   769.0  \n",
       "very low   1626.0  "
      ]
     },
     "execution_count": 52,
     "metadata": {},
     "output_type": "execute_result"
    }
   ],
   "source": [
    "grouped_data.describe()['RT']"
   ]
  },
  {
   "cell_type": "code",
   "execution_count": 37,
   "id": "d365ba43",
   "metadata": {},
   "outputs": [
    {
     "data": {
      "text/plain": [
       "F_onewayResult(statistic=203.20843323788185, pvalue=8.614496435552629e-26)"
      ]
     },
     "execution_count": 37,
     "metadata": {},
     "output_type": "execute_result"
    }
   ],
   "source": [
    "stats.f_oneway(very_low, low, high, very_high)"
   ]
  },
  {
   "cell_type": "code",
   "execution_count": 39,
   "id": "cdd7693b",
   "metadata": {},
   "outputs": [
    {
     "data": {
      "text/plain": [
       "Ttest_indResult(statistic=9.55075176522744, pvalue=2.7673993199893625e-09)"
      ]
     },
     "execution_count": 39,
     "metadata": {},
     "output_type": "execute_result"
    }
   ],
   "source": [
    "stats.ttest_ind(very_low, low)"
   ]
  },
  {
   "cell_type": "code",
   "execution_count": 40,
   "id": "275a60dd",
   "metadata": {},
   "outputs": [
    {
     "data": {
      "text/plain": [
       "Ttest_indResult(statistic=16.41463060047988, pvalue=7.906416052595626e-14)"
      ]
     },
     "execution_count": 40,
     "metadata": {},
     "output_type": "execute_result"
    }
   ],
   "source": [
    "stats.ttest_ind(very_low, high)"
   ]
  },
  {
   "cell_type": "code",
   "execution_count": 41,
   "id": "6277fc51",
   "metadata": {},
   "outputs": [
    {
     "data": {
      "text/plain": [
       "Ttest_indResult(statistic=21.22706126922631, pvalue=3.824775020794922e-16)"
      ]
     },
     "execution_count": 41,
     "metadata": {},
     "output_type": "execute_result"
    }
   ],
   "source": [
    "stats.ttest_ind(very_low, very_high)"
   ]
  },
  {
   "cell_type": "code",
   "execution_count": 42,
   "id": "2eba8adc",
   "metadata": {},
   "outputs": [
    {
     "data": {
      "text/plain": [
       "Ttest_indResult(statistic=7.5883362496075755, pvalue=1.4028612167283343e-07)"
      ]
     },
     "execution_count": 42,
     "metadata": {},
     "output_type": "execute_result"
    }
   ],
   "source": [
    "stats.ttest_ind(low, high)"
   ]
  },
  {
   "cell_type": "code",
   "execution_count": 43,
   "id": "a5711e9c",
   "metadata": {},
   "outputs": [
    {
     "data": {
      "text/plain": [
       "Ttest_indResult(statistic=14.179033699480147, pvalue=1.5160619459027267e-12)"
      ]
     },
     "execution_count": 43,
     "metadata": {},
     "output_type": "execute_result"
    }
   ],
   "source": [
    "stats.ttest_ind(low, very_high)"
   ]
  },
  {
   "cell_type": "code",
   "execution_count": 44,
   "id": "ce38101f",
   "metadata": {},
   "outputs": [
    {
     "data": {
      "text/plain": [
       "Ttest_indResult(statistic=7.9471422710203425, pvalue=6.588839271013657e-08)"
      ]
     },
     "execution_count": 44,
     "metadata": {},
     "output_type": "execute_result"
    }
   ],
   "source": [
    "stats.ttest_ind(high, very_high)"
   ]
  },
  {
   "cell_type": "code",
   "execution_count": null,
   "id": "d05f5c3b",
   "metadata": {},
   "outputs": [],
   "source": []
  }
 ],
 "metadata": {
  "kernelspec": {
   "display_name": "Python (data_science)",
   "language": "python",
   "name": "data_science"
  },
  "language_info": {
   "codemirror_mode": {
    "name": "ipython",
    "version": 3
   },
   "file_extension": ".py",
   "mimetype": "text/x-python",
   "name": "python",
   "nbconvert_exporter": "python",
   "pygments_lexer": "ipython3",
   "version": "3.8.5"
  }
 },
 "nbformat": 4,
 "nbformat_minor": 5
}
