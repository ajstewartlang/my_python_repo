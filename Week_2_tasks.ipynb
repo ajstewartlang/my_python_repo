{
 "cells": [
  {
   "cell_type": "markdown",
   "metadata": {},
   "source": [
    "Write a for loop that will take the following numpy array:\n",
    "\n",
    "[1, 4, 2,  \n",
    "3, 9, 23,  \n",
    "99, 4, 3] \n",
    "\n",
    "and:\n",
    "\n",
    "- (a) print it out row by row \n",
    "- (b) print the sum of the elements on each row.\n",
    "- (c) adapt your code so that instead of producing the sum of the elements in each row, it produces the sum of the elements in each column.\n",
    "\n",
    "The output of the first part should be:\n",
    "\n",
    "This is row 1 [1 4 2]  \n",
    "This is row 2 [ 3  9 23]  \n",
    "This is row 3 [99  4  3]  \n",
    "\n",
    "The output of the second part should be:\n",
    "\n",
    "The sum of [1 4 2] is 7  \n",
    "The sum of [ 3  9 23] is 35  \n",
    "The sum of [99  4  3] is 106  \n",
    "\n",
    "The output of the third part should be:\n",
    "\n",
    "The sum of [ 1  3 99] is 103  \n",
    "The sum of [4 9 4] is 17  \n",
    "The sum of [ 2 23  3] is 28  \n",
    "\n",
    "Take the `for` loop you wrote for part (a) and use it as the body of a function called `print_rows()` which takes a numpy array (call it `my_array`) as a parameter and produces the same output as in part(a). You should call the function with `print_rows(my_array)` \n",
    "\n",
    "Re-write the `for` loop within the function as a `while` loop to produce the same output. Ensure that the while loop will run without error for an array of any number of rows."
   ]
  },
  {
   "cell_type": "code",
   "execution_count": 1,
   "metadata": {},
   "outputs": [],
   "source": [
    "import numpy as np"
   ]
  },
  {
   "cell_type": "code",
   "execution_count": 5,
   "metadata": {},
   "outputs": [],
   "source": [
    "my_array = np.array([(1, 4, 2), (3, 9, 23), (99, 4, 3)])"
   ]
  },
  {
   "cell_type": "code",
   "execution_count": 6,
   "metadata": {},
   "outputs": [
    {
     "data": {
      "text/plain": [
       "array([[ 1,  4,  2],\n",
       "       [ 3,  9, 23],\n",
       "       [99,  4,  3]])"
      ]
     },
     "execution_count": 6,
     "metadata": {},
     "output_type": "execute_result"
    }
   ],
   "source": [
    "my_array"
   ]
  },
  {
   "cell_type": "code",
   "execution_count": 20,
   "metadata": {},
   "outputs": [
    {
     "name": "stdout",
     "output_type": "stream",
     "text": [
      "This is row 1 [1 4 2]\n",
      "This is row 2 [ 3  9 23]\n",
      "This is row 3 [99  4  3]\n"
     ]
    }
   ],
   "source": [
    "i = 1\n",
    "for row in my_array:\n",
    "    print(\"This is row\", i, row)\n",
    "    i += 1"
   ]
  },
  {
   "cell_type": "code",
   "execution_count": 16,
   "metadata": {},
   "outputs": [
    {
     "name": "stdout",
     "output_type": "stream",
     "text": [
      "The sum of [1 4 2] is 7\n",
      "The sum of [ 3  9 23] is 35\n",
      "The sum of [99  4  3] is 106\n"
     ]
    }
   ],
   "source": [
    "for row in my_array:\n",
    "    print(\"The sum of\", row, \"is\", row[0] + row[1] + row[2])"
   ]
  },
  {
   "cell_type": "code",
   "execution_count": 18,
   "metadata": {},
   "outputs": [
    {
     "name": "stdout",
     "output_type": "stream",
     "text": [
      "The sum of [ 1  3 99] is 103\n",
      "The sum of [4 9 4] is 17\n",
      "The sum of [ 2 23  3] is 28\n"
     ]
    }
   ],
   "source": [
    "for column in my_array.T:\n",
    "    print(\"The sum of\", column, \"is\", column[0] + column[1] + column[2])"
   ]
  },
  {
   "cell_type": "code",
   "execution_count": 19,
   "metadata": {},
   "outputs": [
    {
     "data": {
      "text/plain": [
       "array([[ True, False, False],\n",
       "       [False,  True, False],\n",
       "       [False, False,  True]])"
      ]
     },
     "execution_count": 19,
     "metadata": {},
     "output_type": "execute_result"
    }
   ],
   "source": [
    "my_array == my_array.T"
   ]
  },
  {
   "cell_type": "code",
   "execution_count": 22,
   "metadata": {},
   "outputs": [],
   "source": [
    "def print_row(x):\n",
    "    i = 1\n",
    "    for row in x:\n",
    "        print(\"This is row\", i, row)\n",
    "        i += 1"
   ]
  },
  {
   "cell_type": "code",
   "execution_count": 34,
   "metadata": {},
   "outputs": [
    {
     "name": "stdout",
     "output_type": "stream",
     "text": [
      "[1 4 2]\n",
      "[ 3  9 23]\n",
      "[99  4  3]\n"
     ]
    }
   ],
   "source": [
    "print_row(my_array)"
   ]
  },
  {
   "cell_type": "code",
   "execution_count": 33,
   "metadata": {},
   "outputs": [],
   "source": [
    "def print_row(x):\n",
    "    i = 0\n",
    "    while i < len(my_array):\n",
    "        print(my_array[i])\n",
    "        i += 1"
   ]
  },
  {
   "cell_type": "code",
   "execution_count": 36,
   "metadata": {},
   "outputs": [
    {
     "data": {
      "text/plain": [
       "3"
      ]
     },
     "execution_count": 36,
     "metadata": {},
     "output_type": "execute_result"
    }
   ],
   "source": [
    "len(my_array)"
   ]
  }
 ],
 "metadata": {
  "kernelspec": {
   "display_name": "Python (data_science)",
   "language": "python",
   "name": "data_science"
  },
  "language_info": {
   "codemirror_mode": {
    "name": "ipython",
    "version": 3
   },
   "file_extension": ".py",
   "mimetype": "text/x-python",
   "name": "python",
   "nbconvert_exporter": "python",
   "pygments_lexer": "ipython3",
   "version": "3.8.5"
  }
 },
 "nbformat": 4,
 "nbformat_minor": 4
}
