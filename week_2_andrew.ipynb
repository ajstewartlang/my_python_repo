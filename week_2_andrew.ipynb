{
 "cells": [
  {
   "cell_type": "code",
   "execution_count": 1,
   "id": "4ec14515",
   "metadata": {},
   "outputs": [],
   "source": [
    "import numpy as np"
   ]
  },
  {
   "cell_type": "code",
   "execution_count": 2,
   "id": "5637bb5f",
   "metadata": {},
   "outputs": [],
   "source": [
    "my_array = np.array([(1, 4, 2), (3, 9, 23), (99, 4, 3)])"
   ]
  },
  {
   "cell_type": "code",
   "execution_count": 3,
   "id": "9acff30a",
   "metadata": {},
   "outputs": [
    {
     "data": {
      "text/plain": [
       "array([[ 1,  4,  2],\n",
       "       [ 3,  9, 23],\n",
       "       [99,  4,  3]])"
      ]
     },
     "execution_count": 3,
     "metadata": {},
     "output_type": "execute_result"
    }
   ],
   "source": [
    "my_array"
   ]
  },
  {
   "cell_type": "code",
   "execution_count": 4,
   "id": "c66040af",
   "metadata": {},
   "outputs": [
    {
     "name": "stdout",
     "output_type": "stream",
     "text": [
      "This is row 1 [1 4 2]\n",
      "This is row 2 [ 3  9 23]\n",
      "This is row 3 [99  4  3]\n"
     ]
    }
   ],
   "source": [
    "i = 1\n",
    "for row in my_array:\n",
    "    print(\"This is row\", i, row)\n",
    "    i +=1"
   ]
  },
  {
   "cell_type": "code",
   "execution_count": 5,
   "id": "25b120ed",
   "metadata": {},
   "outputs": [
    {
     "name": "stdout",
     "output_type": "stream",
     "text": [
      "The sum of [1 4 2] is 7\n",
      "The sum of [ 3  9 23] is 35\n",
      "The sum of [99  4  3] is 106\n"
     ]
    }
   ],
   "source": [
    "for row in my_array:\n",
    "    print(\"The sum of\", row, \"is\", row[0] + row[1] + row[2])"
   ]
  },
  {
   "cell_type": "code",
   "execution_count": 6,
   "id": "5b39b7ac",
   "metadata": {},
   "outputs": [
    {
     "data": {
      "text/plain": [
       "array([[ 1,  3, 99],\n",
       "       [ 4,  9,  4],\n",
       "       [ 2, 23,  3]])"
      ]
     },
     "execution_count": 6,
     "metadata": {},
     "output_type": "execute_result"
    }
   ],
   "source": [
    "my_array.T"
   ]
  },
  {
   "cell_type": "code",
   "execution_count": 7,
   "id": "869684f0",
   "metadata": {},
   "outputs": [
    {
     "name": "stdout",
     "output_type": "stream",
     "text": [
      "The sum of [ 1  3 99] is 103\n",
      "The sum of [4 9 4] is 17\n",
      "The sum of [ 2 23  3] is 28\n"
     ]
    }
   ],
   "source": [
    "for column in my_array.T:\n",
    "    print(\"The sum of\", column, \"is\", column[0] + column[1] + column[2])"
   ]
  },
  {
   "cell_type": "code",
   "execution_count": 8,
   "id": "0aa39f0e",
   "metadata": {},
   "outputs": [
    {
     "data": {
      "text/plain": [
       "148"
      ]
     },
     "execution_count": 8,
     "metadata": {},
     "output_type": "execute_result"
    }
   ],
   "source": [
    "my_array.sum()"
   ]
  },
  {
   "cell_type": "code",
   "execution_count": 9,
   "id": "18ff5889",
   "metadata": {},
   "outputs": [
    {
     "data": {
      "text/plain": [
       "array([  7,  35, 106])"
      ]
     },
     "execution_count": 9,
     "metadata": {},
     "output_type": "execute_result"
    }
   ],
   "source": [
    "my_array.sum(axis=1)"
   ]
  },
  {
   "cell_type": "code",
   "execution_count": 10,
   "id": "8c23920b",
   "metadata": {},
   "outputs": [
    {
     "data": {
      "text/plain": [
       "array([103,  17,  28])"
      ]
     },
     "execution_count": 10,
     "metadata": {},
     "output_type": "execute_result"
    }
   ],
   "source": [
    "my_array.sum(axis=0)"
   ]
  },
  {
   "cell_type": "code",
   "execution_count": 11,
   "id": "47a6c9a7",
   "metadata": {},
   "outputs": [],
   "source": [
    "def print_row(x):\n",
    "    i = 1\n",
    "    for row in x:\n",
    "        print(\"This is row\", i, row)\n",
    "        i += 1"
   ]
  },
  {
   "cell_type": "code",
   "execution_count": 12,
   "id": "8f88e178",
   "metadata": {},
   "outputs": [
    {
     "name": "stdout",
     "output_type": "stream",
     "text": [
      "This is row 1 [1 4 2]\n",
      "This is row 2 [ 3  9 23]\n",
      "This is row 3 [99  4  3]\n"
     ]
    }
   ],
   "source": [
    "print_row(my_array)"
   ]
  },
  {
   "cell_type": "code",
   "execution_count": 13,
   "id": "5143b68c",
   "metadata": {},
   "outputs": [],
   "source": [
    "def print_row(x):\n",
    "    i = 0\n",
    "    while i < len(x):\n",
    "        print(x[i])\n",
    "        i += 1"
   ]
  },
  {
   "cell_type": "code",
   "execution_count": 14,
   "id": "0e9cc625",
   "metadata": {},
   "outputs": [
    {
     "name": "stdout",
     "output_type": "stream",
     "text": [
      "[1 4 2]\n",
      "[ 3  9 23]\n",
      "[99  4  3]\n"
     ]
    }
   ],
   "source": [
    "print_row(my_array)"
   ]
  },
  {
   "cell_type": "code",
   "execution_count": null,
   "id": "d294dc75",
   "metadata": {},
   "outputs": [],
   "source": []
  }
 ],
 "metadata": {
  "kernelspec": {
   "display_name": "Python (data_science)",
   "language": "python",
   "name": "data_science"
  },
  "language_info": {
   "codemirror_mode": {
    "name": "ipython",
    "version": 3
   },
   "file_extension": ".py",
   "mimetype": "text/x-python",
   "name": "python",
   "nbconvert_exporter": "python",
   "pygments_lexer": "ipython3",
   "version": "3.8.5"
  }
 },
 "nbformat": 4,
 "nbformat_minor": 5
}
